{
 "cells": [
  {
   "cell_type": "code",
   "execution_count": 1,
   "metadata": {},
   "outputs": [
    {
     "data": {
      "application/javascript": [
       "\n",
       "            setTimeout(function() {\n",
       "                var nbb_cell_id = 1;\n",
       "                var nbb_unformatted_code = \"%reload_ext nb_black\";\n",
       "                var nbb_formatted_code = \"%reload_ext nb_black\";\n",
       "                var nbb_cells = Jupyter.notebook.get_cells();\n",
       "                for (var i = 0; i < nbb_cells.length; ++i) {\n",
       "                    if (nbb_cells[i].input_prompt_number == nbb_cell_id) {\n",
       "                        if (nbb_cells[i].get_text() == nbb_unformatted_code) {\n",
       "                             nbb_cells[i].set_text(nbb_formatted_code);\n",
       "                        }\n",
       "                        break;\n",
       "                    }\n",
       "                }\n",
       "            }, 500);\n",
       "            "
      ],
      "text/plain": [
       "<IPython.core.display.Javascript object>"
      ]
     },
     "metadata": {},
     "output_type": "display_data"
    }
   ],
   "source": [
    "%reload_ext nb_black"
   ]
  },
  {
   "cell_type": "code",
   "execution_count": 65,
   "metadata": {},
   "outputs": [
    {
     "data": {
      "application/javascript": [
       "\n",
       "            setTimeout(function() {\n",
       "                var nbb_cell_id = 65;\n",
       "                var nbb_unformatted_code = \"import json\\nimport time\\nimport pandas as pd\\nimport numpy as np\\n\\nwith open(\\\"secrets.json\\\", \\\"r\\\") as f:\\n    secrets = json.load(f)\";\n",
       "                var nbb_formatted_code = \"import json\\nimport time\\nimport pandas as pd\\nimport numpy as np\\n\\nwith open(\\\"secrets.json\\\", \\\"r\\\") as f:\\n    secrets = json.load(f)\";\n",
       "                var nbb_cells = Jupyter.notebook.get_cells();\n",
       "                for (var i = 0; i < nbb_cells.length; ++i) {\n",
       "                    if (nbb_cells[i].input_prompt_number == nbb_cell_id) {\n",
       "                        if (nbb_cells[i].get_text() == nbb_unformatted_code) {\n",
       "                             nbb_cells[i].set_text(nbb_formatted_code);\n",
       "                        }\n",
       "                        break;\n",
       "                    }\n",
       "                }\n",
       "            }, 500);\n",
       "            "
      ],
      "text/plain": [
       "<IPython.core.display.Javascript object>"
      ]
     },
     "metadata": {},
     "output_type": "display_data"
    }
   ],
   "source": [
    "import json\n",
    "import time\n",
    "import pandas as pd\n",
    "import numpy as np\n",
    "\n",
    "with open(\"secrets.json\", \"r\") as f:\n",
    "    secrets = json.load(f)"
   ]
  },
  {
   "cell_type": "code",
   "execution_count": 101,
   "metadata": {},
   "outputs": [
    {
     "name": "stderr",
     "output_type": "stream",
     "text": [
      "C:\\ProgramData\\Anaconda3\\lib\\site-packages\\ipykernel_launcher.py:14: DeprecationWarning: You're using 'as_dict = True'.get_access_token will return the token string directly in future versions. Please adjust your code accordingly, or use get_cached_token instead.\n",
      "  \n"
     ]
    },
    {
     "data": {
      "application/javascript": [
       "\n",
       "            setTimeout(function() {\n",
       "                var nbb_cell_id = 101;\n",
       "                var nbb_unformatted_code = \"import spotipy\\nimport spotipy.util as util\\nfrom spotipy.oauth2 import SpotifyClientCredentials\\nimport spotipy.oauth2 as oauth2\\n\\n\\nCLIENT_ID = secrets[\\\"spotify_client_id\\\"]\\nCLIENT_SECRET = secrets[\\\"spotify_client_secret\\\"]\\n\\ncredentials = oauth2.SpotifyClientCredentials(\\n    client_id=CLIENT_ID, client_secret=CLIENT_SECRET\\n)\\n\\ntoken = credentials.get_access_token()\\nsp = spotipy.Spotify(auth=token)\";\n",
       "                var nbb_formatted_code = \"import spotipy\\nimport spotipy.util as util\\nfrom spotipy.oauth2 import SpotifyClientCredentials\\nimport spotipy.oauth2 as oauth2\\n\\n\\nCLIENT_ID = secrets[\\\"spotify_client_id\\\"]\\nCLIENT_SECRET = secrets[\\\"spotify_client_secret\\\"]\\n\\ncredentials = oauth2.SpotifyClientCredentials(\\n    client_id=CLIENT_ID, client_secret=CLIENT_SECRET\\n)\\n\\ntoken = credentials.get_access_token()\\nsp = spotipy.Spotify(auth=token)\";\n",
       "                var nbb_cells = Jupyter.notebook.get_cells();\n",
       "                for (var i = 0; i < nbb_cells.length; ++i) {\n",
       "                    if (nbb_cells[i].input_prompt_number == nbb_cell_id) {\n",
       "                        if (nbb_cells[i].get_text() == nbb_unformatted_code) {\n",
       "                             nbb_cells[i].set_text(nbb_formatted_code);\n",
       "                        }\n",
       "                        break;\n",
       "                    }\n",
       "                }\n",
       "            }, 500);\n",
       "            "
      ],
      "text/plain": [
       "<IPython.core.display.Javascript object>"
      ]
     },
     "metadata": {},
     "output_type": "display_data"
    }
   ],
   "source": [
    "import spotipy\n",
    "import spotipy.util as util\n",
    "from spotipy.oauth2 import SpotifyClientCredentials\n",
    "import spotipy.oauth2 as oauth2\n",
    "\n",
    "\n",
    "CLIENT_ID = secrets[\"spotify_client_id\"]\n",
    "CLIENT_SECRET = secrets[\"spotify_client_secret\"]\n",
    "\n",
    "credentials = oauth2.SpotifyClientCredentials(\n",
    "    client_id=CLIENT_ID, client_secret=CLIENT_SECRET\n",
    ")\n",
    "\n",
    "token = credentials.get_access_token()\n",
    "sp = spotipy.Spotify(auth=token)\n",
    "\n"
   ]
  },
  {
   "cell_type": "code",
   "execution_count": 5,
   "metadata": {},
   "outputs": [
    {
     "data": {
      "application/javascript": [
       "\n",
       "            setTimeout(function() {\n",
       "                var nbb_cell_id = 5;\n",
       "                var nbb_unformatted_code = \"def get_vecs(res):\\n    '''\\n    Returns two arrays, pitch vectors then timbre vectors,\\n    consisting of the middle 50% of the song\\n    '''\\n    pitch_vecs = []\\n    timbre_vecs = []\\n\\n    song_dur = res[\\\"track\\\"][\\\"duration\\\"]\\n    middle_50 = (song_dur * 0.25, song_dur * 0.75)\\n    begin, end = middle_50\\n    for segment in res[\\\"segments\\\"]:\\n        if begin < segment[\\\"start\\\"] < end:\\n            pitch_vecs.append(segment[\\\"pitches\\\"])\\n            timbre_vecs.append(segment[\\\"timbre\\\"])\\n            \\n    return pitch_vecs, timbre_vecs\";\n",
       "                var nbb_formatted_code = \"def get_vecs(res):\\n    \\\"\\\"\\\"\\n    Returns two arrays, pitch vectors then timbre vectors,\\n    consisting of the middle 50% of the song\\n    \\\"\\\"\\\"\\n    pitch_vecs = []\\n    timbre_vecs = []\\n\\n    song_dur = res[\\\"track\\\"][\\\"duration\\\"]\\n    middle_50 = (song_dur * 0.25, song_dur * 0.75)\\n    begin, end = middle_50\\n    for segment in res[\\\"segments\\\"]:\\n        if begin < segment[\\\"start\\\"] < end:\\n            pitch_vecs.append(segment[\\\"pitches\\\"])\\n            timbre_vecs.append(segment[\\\"timbre\\\"])\\n\\n    return pitch_vecs, timbre_vecs\";\n",
       "                var nbb_cells = Jupyter.notebook.get_cells();\n",
       "                for (var i = 0; i < nbb_cells.length; ++i) {\n",
       "                    if (nbb_cells[i].input_prompt_number == nbb_cell_id) {\n",
       "                        if (nbb_cells[i].get_text() == nbb_unformatted_code) {\n",
       "                             nbb_cells[i].set_text(nbb_formatted_code);\n",
       "                        }\n",
       "                        break;\n",
       "                    }\n",
       "                }\n",
       "            }, 500);\n",
       "            "
      ],
      "text/plain": [
       "<IPython.core.display.Javascript object>"
      ]
     },
     "metadata": {},
     "output_type": "display_data"
    }
   ],
   "source": [
    "def get_vecs(res):\n",
    "    \"\"\"\n",
    "    Returns two arrays, pitch vectors then timbre vectors,\n",
    "    consisting of the middle 50% of the song\n",
    "    \"\"\"\n",
    "    pitch_vecs = []\n",
    "    timbre_vecs = []\n",
    "\n",
    "    song_dur = res[\"track\"][\"duration\"]\n",
    "    middle_50 = (song_dur * 0.25, song_dur * 0.75)\n",
    "    begin, end = middle_50\n",
    "    for segment in res[\"segments\"]:\n",
    "        if begin < segment[\"start\"] < end:\n",
    "            pitch_vecs.append(segment[\"pitches\"])\n",
    "            timbre_vecs.append(segment[\"timbre\"])\n",
    "\n",
    "    return pitch_vecs, timbre_vecs"
   ]
  },
  {
   "cell_type": "code",
   "execution_count": 40,
   "metadata": {},
   "outputs": [
    {
     "data": {
      "application/javascript": [
       "\n",
       "            setTimeout(function() {\n",
       "                var nbb_cell_id = 40;\n",
       "                var nbb_unformatted_code = \"def mean_vector_cov_1d(vectors, vec_type):\\n    \\n    cov_dict = {}\\n    if vec_type=='pitch':\\n        var_names = [\\\"C\\\", \\\"C#\\\", \\\"D\\\", \\\"D#\\\", \\\"E\\\", \\\"F\\\", \\\"F#\\\", \\\"G\\\", \\\"G#\\\", \\\"A\\\", \\\"A#\\\", \\\"B\\\"]\\n    elif vec_type == 'timbre':\\n        var_names = [\\\"t\\\" + str(x) for x in range(12)]\\n    \\n    vecs_df = pd.DataFrame(np.array(vectors), columns=var_names)\\n    mean_dict = dict(vecs_df.mean())\\n    \\n    cov_matrix=pd.DataFrame(np.cov(np.array(vectors).T), columns=var_names, index=var_names)\\n    tall_cov = pd.melt(cov_matrix, ignore_index=False).reset_index()\\n    tall_cov.columns = [\\\"c0\\\", \\\"c1\\\", \\\"covariance\\\"]\\n    # removing redundant info\\n    tall_cov = tall_cov[tall_cov[\\\"c0\\\"] <= tall_cov[\\\"c1\\\"]]\\n    cov_dict = {}\\n    for i in range(tall_cov.shape[0]):\\n        curr_row = tall_cov.iloc[i,:]\\n        c0 = curr_row['c0']\\n        c1 = curr_row['c1']\\n        cov = curr_row['covariance']\\n        cov_dict[f'{c0}-{c1}']=cov\\n\\n    return {**mean_dict, **cov_dict}\";\n",
       "                var nbb_formatted_code = \"def mean_vector_cov_1d(vectors, vec_type):\\n\\n    cov_dict = {}\\n    if vec_type == \\\"pitch\\\":\\n        var_names = [\\\"C\\\", \\\"C#\\\", \\\"D\\\", \\\"D#\\\", \\\"E\\\", \\\"F\\\", \\\"F#\\\", \\\"G\\\", \\\"G#\\\", \\\"A\\\", \\\"A#\\\", \\\"B\\\"]\\n    elif vec_type == \\\"timbre\\\":\\n        var_names = [\\\"t\\\" + str(x) for x in range(12)]\\n\\n    vecs_df = pd.DataFrame(np.array(vectors), columns=var_names)\\n    mean_dict = dict(vecs_df.mean())\\n\\n    cov_matrix = pd.DataFrame(\\n        np.cov(np.array(vectors).T), columns=var_names, index=var_names\\n    )\\n    tall_cov = pd.melt(cov_matrix, ignore_index=False).reset_index()\\n    tall_cov.columns = [\\\"c0\\\", \\\"c1\\\", \\\"covariance\\\"]\\n    # removing redundant info\\n    tall_cov = tall_cov[tall_cov[\\\"c0\\\"] <= tall_cov[\\\"c1\\\"]]\\n    cov_dict = {}\\n    for i in range(tall_cov.shape[0]):\\n        curr_row = tall_cov.iloc[i, :]\\n        c0 = curr_row[\\\"c0\\\"]\\n        c1 = curr_row[\\\"c1\\\"]\\n        cov = curr_row[\\\"covariance\\\"]\\n        cov_dict[f\\\"{c0}-{c1}\\\"] = cov\\n\\n    return {**mean_dict, **cov_dict}\";\n",
       "                var nbb_cells = Jupyter.notebook.get_cells();\n",
       "                for (var i = 0; i < nbb_cells.length; ++i) {\n",
       "                    if (nbb_cells[i].input_prompt_number == nbb_cell_id) {\n",
       "                        if (nbb_cells[i].get_text() == nbb_unformatted_code) {\n",
       "                             nbb_cells[i].set_text(nbb_formatted_code);\n",
       "                        }\n",
       "                        break;\n",
       "                    }\n",
       "                }\n",
       "            }, 500);\n",
       "            "
      ],
      "text/plain": [
       "<IPython.core.display.Javascript object>"
      ]
     },
     "metadata": {},
     "output_type": "display_data"
    }
   ],
   "source": [
    "def mean_vector_cov_1d(vectors, vec_type):\n",
    "\n",
    "    cov_dict = {}\n",
    "    if vec_type == \"pitch\":\n",
    "        var_names = [\"C\", \"C#\", \"D\", \"D#\", \"E\", \"F\", \"F#\", \"G\", \"G#\", \"A\", \"A#\", \"B\"]\n",
    "    elif vec_type == \"timbre\":\n",
    "        var_names = [\"t\" + str(x) for x in range(12)]\n",
    "\n",
    "    vecs_df = pd.DataFrame(np.array(vectors), columns=var_names)\n",
    "    mean_dict = dict(vecs_df.mean())\n",
    "\n",
    "    cov_matrix = pd.DataFrame(\n",
    "        np.cov(np.array(vectors).T), columns=var_names, index=var_names\n",
    "    )\n",
    "    tall_cov = pd.melt(cov_matrix, ignore_index=False).reset_index()\n",
    "    tall_cov.columns = [\"c0\", \"c1\", \"covariance\"]\n",
    "    # removing redundant info\n",
    "    tall_cov = tall_cov[tall_cov[\"c0\"] <= tall_cov[\"c1\"]]\n",
    "    cov_dict = {}\n",
    "    for i in range(tall_cov.shape[0]):\n",
    "        curr_row = tall_cov.iloc[i, :]\n",
    "        c0 = curr_row[\"c0\"]\n",
    "        c1 = curr_row[\"c1\"]\n",
    "        cov = curr_row[\"covariance\"]\n",
    "        cov_dict[f\"{c0}-{c1}\"] = cov\n",
    "\n",
    "    return {**mean_dict, **cov_dict}"
   ]
  },
  {
   "cell_type": "code",
   "execution_count": 44,
   "metadata": {},
   "outputs": [
    {
     "data": {
      "text/html": [
       "<div>\n",
       "<style scoped>\n",
       "    .dataframe tbody tr th:only-of-type {\n",
       "        vertical-align: middle;\n",
       "    }\n",
       "\n",
       "    .dataframe tbody tr th {\n",
       "        vertical-align: top;\n",
       "    }\n",
       "\n",
       "    .dataframe thead th {\n",
       "        text-align: right;\n",
       "    }\n",
       "</style>\n",
       "<table border=\"1\" class=\"dataframe\">\n",
       "  <thead>\n",
       "    <tr style=\"text-align: right;\">\n",
       "      <th></th>\n",
       "      <th>id</th>\n",
       "      <th>artist</th>\n",
       "      <th>title</th>\n",
       "      <th>album</th>\n",
       "      <th>popularity</th>\n",
       "      <th>danceability</th>\n",
       "      <th>energy</th>\n",
       "      <th>key</th>\n",
       "      <th>loudness</th>\n",
       "      <th>mode</th>\n",
       "      <th>speechiness</th>\n",
       "      <th>acousticness</th>\n",
       "      <th>instrumentalness</th>\n",
       "      <th>liveness</th>\n",
       "      <th>valence</th>\n",
       "      <th>tempo</th>\n",
       "      <th>duration_ms</th>\n",
       "      <th>time_signature</th>\n",
       "    </tr>\n",
       "  </thead>\n",
       "  <tbody>\n",
       "    <tr>\n",
       "      <th>0</th>\n",
       "      <td>4Oun2ylbjFKMPTiaSbbCih</td>\n",
       "      <td>Cardi B</td>\n",
       "      <td>WAP (feat. Megan Thee Stallion)</td>\n",
       "      <td>WAP (feat. Megan Thee Stallion)</td>\n",
       "      <td>92</td>\n",
       "      <td>0.935</td>\n",
       "      <td>0.454</td>\n",
       "      <td>1</td>\n",
       "      <td>-7.509</td>\n",
       "      <td>1</td>\n",
       "      <td>0.3750</td>\n",
       "      <td>0.0194</td>\n",
       "      <td>0.000000</td>\n",
       "      <td>0.0824</td>\n",
       "      <td>0.357</td>\n",
       "      <td>133.073</td>\n",
       "      <td>187541</td>\n",
       "      <td>4</td>\n",
       "    </tr>\n",
       "    <tr>\n",
       "      <th>1</th>\n",
       "      <td>2SAqBLGA283SUiwJ3xOUVI</td>\n",
       "      <td>Drake</td>\n",
       "      <td>Laugh Now Cry Later (feat. Lil Durk)</td>\n",
       "      <td>Laugh Now Cry Later (feat. Lil Durk)</td>\n",
       "      <td>83</td>\n",
       "      <td>0.761</td>\n",
       "      <td>0.518</td>\n",
       "      <td>0</td>\n",
       "      <td>-8.871</td>\n",
       "      <td>1</td>\n",
       "      <td>0.1340</td>\n",
       "      <td>0.2440</td>\n",
       "      <td>0.000035</td>\n",
       "      <td>0.1070</td>\n",
       "      <td>0.522</td>\n",
       "      <td>133.976</td>\n",
       "      <td>261493</td>\n",
       "      <td>4</td>\n",
       "    </tr>\n",
       "    <tr>\n",
       "      <th>2</th>\n",
       "      <td>3H7ihDc1dqLriiWXwsc2po</td>\n",
       "      <td>Topic</td>\n",
       "      <td>Breaking Me</td>\n",
       "      <td>Breaking Me</td>\n",
       "      <td>96</td>\n",
       "      <td>0.789</td>\n",
       "      <td>0.720</td>\n",
       "      <td>8</td>\n",
       "      <td>-5.652</td>\n",
       "      <td>0</td>\n",
       "      <td>0.2180</td>\n",
       "      <td>0.2230</td>\n",
       "      <td>0.000000</td>\n",
       "      <td>0.1290</td>\n",
       "      <td>0.664</td>\n",
       "      <td>122.031</td>\n",
       "      <td>166794</td>\n",
       "      <td>4</td>\n",
       "    </tr>\n",
       "    <tr>\n",
       "      <th>3</th>\n",
       "      <td>6UelLqGlWMcVH1E5c4H7lY</td>\n",
       "      <td>Harry Styles</td>\n",
       "      <td>Watermelon Sugar</td>\n",
       "      <td>Fine Line</td>\n",
       "      <td>97</td>\n",
       "      <td>0.548</td>\n",
       "      <td>0.816</td>\n",
       "      <td>0</td>\n",
       "      <td>-4.209</td>\n",
       "      <td>1</td>\n",
       "      <td>0.0465</td>\n",
       "      <td>0.1220</td>\n",
       "      <td>0.000000</td>\n",
       "      <td>0.3350</td>\n",
       "      <td>0.557</td>\n",
       "      <td>95.390</td>\n",
       "      <td>174000</td>\n",
       "      <td>4</td>\n",
       "    </tr>\n",
       "    <tr>\n",
       "      <th>4</th>\n",
       "      <td>7ytR5pFWmSjzHJIeQkgog4</td>\n",
       "      <td>DaBaby</td>\n",
       "      <td>ROCKSTAR (feat. Roddy Ricch)</td>\n",
       "      <td>BLAME IT ON BABY</td>\n",
       "      <td>100</td>\n",
       "      <td>0.746</td>\n",
       "      <td>0.690</td>\n",
       "      <td>11</td>\n",
       "      <td>-7.956</td>\n",
       "      <td>1</td>\n",
       "      <td>0.1640</td>\n",
       "      <td>0.2470</td>\n",
       "      <td>0.000000</td>\n",
       "      <td>0.1010</td>\n",
       "      <td>0.497</td>\n",
       "      <td>89.977</td>\n",
       "      <td>181733</td>\n",
       "      <td>4</td>\n",
       "    </tr>\n",
       "  </tbody>\n",
       "</table>\n",
       "</div>"
      ],
      "text/plain": [
       "                       id        artist                                 title  \\\n",
       "0  4Oun2ylbjFKMPTiaSbbCih       Cardi B       WAP (feat. Megan Thee Stallion)   \n",
       "1  2SAqBLGA283SUiwJ3xOUVI         Drake  Laugh Now Cry Later (feat. Lil Durk)   \n",
       "2  3H7ihDc1dqLriiWXwsc2po         Topic                           Breaking Me   \n",
       "3  6UelLqGlWMcVH1E5c4H7lY  Harry Styles                      Watermelon Sugar   \n",
       "4  7ytR5pFWmSjzHJIeQkgog4        DaBaby          ROCKSTAR (feat. Roddy Ricch)   \n",
       "\n",
       "                                  album  popularity  danceability  energy  \\\n",
       "0       WAP (feat. Megan Thee Stallion)          92         0.935   0.454   \n",
       "1  Laugh Now Cry Later (feat. Lil Durk)          83         0.761   0.518   \n",
       "2                           Breaking Me          96         0.789   0.720   \n",
       "3                             Fine Line          97         0.548   0.816   \n",
       "4                      BLAME IT ON BABY         100         0.746   0.690   \n",
       "\n",
       "   key  loudness  mode  speechiness  acousticness  instrumentalness  liveness  \\\n",
       "0    1    -7.509     1       0.3750        0.0194          0.000000    0.0824   \n",
       "1    0    -8.871     1       0.1340        0.2440          0.000035    0.1070   \n",
       "2    8    -5.652     0       0.2180        0.2230          0.000000    0.1290   \n",
       "3    0    -4.209     1       0.0465        0.1220          0.000000    0.3350   \n",
       "4   11    -7.956     1       0.1640        0.2470          0.000000    0.1010   \n",
       "\n",
       "   valence    tempo  duration_ms  time_signature  \n",
       "0    0.357  133.073       187541               4  \n",
       "1    0.522  133.976       261493               4  \n",
       "2    0.664  122.031       166794               4  \n",
       "3    0.557   95.390       174000               4  \n",
       "4    0.497   89.977       181733               4  "
      ]
     },
     "execution_count": 44,
     "metadata": {},
     "output_type": "execute_result"
    },
    {
     "data": {
      "application/javascript": [
       "\n",
       "            setTimeout(function() {\n",
       "                var nbb_cell_id = 44;\n",
       "                var nbb_unformatted_code = \"df = pd.read_csv(\\\"data/gen_playlist_tracks_full.csv\\\", index_col=0)\\ndf.head()\";\n",
       "                var nbb_formatted_code = \"df = pd.read_csv(\\\"data/gen_playlist_tracks_full.csv\\\", index_col=0)\\ndf.head()\";\n",
       "                var nbb_cells = Jupyter.notebook.get_cells();\n",
       "                for (var i = 0; i < nbb_cells.length; ++i) {\n",
       "                    if (nbb_cells[i].input_prompt_number == nbb_cell_id) {\n",
       "                        if (nbb_cells[i].get_text() == nbb_unformatted_code) {\n",
       "                             nbb_cells[i].set_text(nbb_formatted_code);\n",
       "                        }\n",
       "                        break;\n",
       "                    }\n",
       "                }\n",
       "            }, 500);\n",
       "            "
      ],
      "text/plain": [
       "<IPython.core.display.Javascript object>"
      ]
     },
     "metadata": {},
     "output_type": "display_data"
    }
   ],
   "source": [
    "df = pd.read_csv(\"data/gen_playlist_tracks_full.csv\", index_col=0)\n",
    "df.head()"
   ]
  },
  {
   "cell_type": "code",
   "execution_count": 51,
   "metadata": {},
   "outputs": [
    {
     "data": {
      "text/plain": [
       "(13071, 18)"
      ]
     },
     "execution_count": 51,
     "metadata": {},
     "output_type": "execute_result"
    },
    {
     "data": {
      "application/javascript": [
       "\n",
       "            setTimeout(function() {\n",
       "                var nbb_cell_id = 51;\n",
       "                var nbb_unformatted_code = \"df.shape\";\n",
       "                var nbb_formatted_code = \"df.shape\";\n",
       "                var nbb_cells = Jupyter.notebook.get_cells();\n",
       "                for (var i = 0; i < nbb_cells.length; ++i) {\n",
       "                    if (nbb_cells[i].input_prompt_number == nbb_cell_id) {\n",
       "                        if (nbb_cells[i].get_text() == nbb_unformatted_code) {\n",
       "                             nbb_cells[i].set_text(nbb_formatted_code);\n",
       "                        }\n",
       "                        break;\n",
       "                    }\n",
       "                }\n",
       "            }, 500);\n",
       "            "
      ],
      "text/plain": [
       "<IPython.core.display.Javascript object>"
      ]
     },
     "metadata": {},
     "output_type": "display_data"
    }
   ],
   "source": [
    "df.shape"
   ]
  },
  {
   "cell_type": "code",
   "execution_count": 53,
   "metadata": {},
   "outputs": [
    {
     "data": {
      "text/plain": [
       "13071"
      ]
     },
     "execution_count": 53,
     "metadata": {},
     "output_type": "execute_result"
    },
    {
     "data": {
      "application/javascript": [
       "\n",
       "            setTimeout(function() {\n",
       "                var nbb_cell_id = 53;\n",
       "                var nbb_unformatted_code = \"df['id'].nunique()\";\n",
       "                var nbb_formatted_code = \"df[\\\"id\\\"].nunique()\";\n",
       "                var nbb_cells = Jupyter.notebook.get_cells();\n",
       "                for (var i = 0; i < nbb_cells.length; ++i) {\n",
       "                    if (nbb_cells[i].input_prompt_number == nbb_cell_id) {\n",
       "                        if (nbb_cells[i].get_text() == nbb_unformatted_code) {\n",
       "                             nbb_cells[i].set_text(nbb_formatted_code);\n",
       "                        }\n",
       "                        break;\n",
       "                    }\n",
       "                }\n",
       "            }, 500);\n",
       "            "
      ],
      "text/plain": [
       "<IPython.core.display.Javascript object>"
      ]
     },
     "metadata": {},
     "output_type": "display_data"
    }
   ],
   "source": [
    "df[\"id\"].nunique()"
   ]
  },
  {
   "cell_type": "code",
   "execution_count": 55,
   "metadata": {},
   "outputs": [
    {
     "data": {
      "application/javascript": [
       "\n",
       "            setTimeout(function() {\n",
       "                var nbb_cell_id = 55;\n",
       "                var nbb_unformatted_code = \"res = sp.audio_analysis(\\\"0VjIjW4GlUZAMYd2vXMi3b\\\")  # blinding lights, wknd\";\n",
       "                var nbb_formatted_code = \"res = sp.audio_analysis(\\\"0VjIjW4GlUZAMYd2vXMi3b\\\")  # blinding lights, wknd\";\n",
       "                var nbb_cells = Jupyter.notebook.get_cells();\n",
       "                for (var i = 0; i < nbb_cells.length; ++i) {\n",
       "                    if (nbb_cells[i].input_prompt_number == nbb_cell_id) {\n",
       "                        if (nbb_cells[i].get_text() == nbb_unformatted_code) {\n",
       "                             nbb_cells[i].set_text(nbb_formatted_code);\n",
       "                        }\n",
       "                        break;\n",
       "                    }\n",
       "                }\n",
       "            }, 500);\n",
       "            "
      ],
      "text/plain": [
       "<IPython.core.display.Javascript object>"
      ]
     },
     "metadata": {},
     "output_type": "display_data"
    }
   ],
   "source": [
    "res = sp.audio_analysis(\"0VjIjW4GlUZAMYd2vXMi3b\")  # blinding lights, wknd"
   ]
  },
  {
   "cell_type": "code",
   "execution_count": null,
   "metadata": {},
   "outputs": [],
   "source": []
  },
  {
   "cell_type": "code",
   "execution_count": 71,
   "metadata": {
    "scrolled": true
   },
   "outputs": [
    {
     "name": "stderr",
     "output_type": "stream",
     "text": [
      "C:\\ProgramData\\Anaconda3\\lib\\site-packages\\ipykernel_launcher.py:4: DeprecationWarning: You're using 'as_dict = True'.get_access_token will return the token string directly in future versions. Please adjust your code accordingly, or use get_cached_token instead.\n",
      "  after removing the cwd from sys.path.\n"
     ]
    },
    {
     "name": "stdout",
     "output_type": "stream",
     "text": [
      "20 songs done\n",
      "40 songs done\n",
      "60 songs done\n",
      "80 songs done\n",
      "100 songs done\n",
      "120 songs done\n",
      "140 songs done\n",
      "160 songs done\n",
      "180 songs done\n",
      "200 songs done\n",
      "220 songs done\n",
      "240 songs done\n",
      "260 songs done\n"
     ]
    },
    {
     "ename": "NameError",
     "evalue": "name 'ReadTimeout' is not defined",
     "output_type": "error",
     "traceback": [
      "\u001b[1;31m---------------------------------------------------------------------------\u001b[0m",
      "\u001b[1;31mtimeout\u001b[0m                                   Traceback (most recent call last)",
      "\u001b[1;32mC:\\ProgramData\\Anaconda3\\lib\\site-packages\\urllib3\\connectionpool.py\u001b[0m in \u001b[0;36m_make_request\u001b[1;34m(self, conn, method, url, timeout, chunked, **httplib_request_kw)\u001b[0m\n\u001b[0;32m    420\u001b[0m                     \u001b[1;31m# Otherwise it looks like a bug in the code.\u001b[0m\u001b[1;33m\u001b[0m\u001b[1;33m\u001b[0m\u001b[1;33m\u001b[0m\u001b[0m\n\u001b[1;32m--> 421\u001b[1;33m                     \u001b[0msix\u001b[0m\u001b[1;33m.\u001b[0m\u001b[0mraise_from\u001b[0m\u001b[1;33m(\u001b[0m\u001b[0me\u001b[0m\u001b[1;33m,\u001b[0m \u001b[1;32mNone\u001b[0m\u001b[1;33m)\u001b[0m\u001b[1;33m\u001b[0m\u001b[1;33m\u001b[0m\u001b[0m\n\u001b[0m\u001b[0;32m    422\u001b[0m         \u001b[1;32mexcept\u001b[0m \u001b[1;33m(\u001b[0m\u001b[0mSocketTimeout\u001b[0m\u001b[1;33m,\u001b[0m \u001b[0mBaseSSLError\u001b[0m\u001b[1;33m,\u001b[0m \u001b[0mSocketError\u001b[0m\u001b[1;33m)\u001b[0m \u001b[1;32mas\u001b[0m \u001b[0me\u001b[0m\u001b[1;33m:\u001b[0m\u001b[1;33m\u001b[0m\u001b[1;33m\u001b[0m\u001b[0m\n",
      "\u001b[1;32mC:\\ProgramData\\Anaconda3\\lib\\site-packages\\urllib3\\packages\\six.py\u001b[0m in \u001b[0;36mraise_from\u001b[1;34m(value, from_value)\u001b[0m\n",
      "\u001b[1;32mC:\\ProgramData\\Anaconda3\\lib\\site-packages\\urllib3\\connectionpool.py\u001b[0m in \u001b[0;36m_make_request\u001b[1;34m(self, conn, method, url, timeout, chunked, **httplib_request_kw)\u001b[0m\n\u001b[0;32m    415\u001b[0m                 \u001b[1;32mtry\u001b[0m\u001b[1;33m:\u001b[0m\u001b[1;33m\u001b[0m\u001b[1;33m\u001b[0m\u001b[0m\n\u001b[1;32m--> 416\u001b[1;33m                     \u001b[0mhttplib_response\u001b[0m \u001b[1;33m=\u001b[0m \u001b[0mconn\u001b[0m\u001b[1;33m.\u001b[0m\u001b[0mgetresponse\u001b[0m\u001b[1;33m(\u001b[0m\u001b[1;33m)\u001b[0m\u001b[1;33m\u001b[0m\u001b[1;33m\u001b[0m\u001b[0m\n\u001b[0m\u001b[0;32m    417\u001b[0m                 \u001b[1;32mexcept\u001b[0m \u001b[0mBaseException\u001b[0m \u001b[1;32mas\u001b[0m \u001b[0me\u001b[0m\u001b[1;33m:\u001b[0m\u001b[1;33m\u001b[0m\u001b[1;33m\u001b[0m\u001b[0m\n",
      "\u001b[1;32mC:\\ProgramData\\Anaconda3\\lib\\http\\client.py\u001b[0m in \u001b[0;36mgetresponse\u001b[1;34m(self)\u001b[0m\n\u001b[0;32m   1343\u001b[0m             \u001b[1;32mtry\u001b[0m\u001b[1;33m:\u001b[0m\u001b[1;33m\u001b[0m\u001b[1;33m\u001b[0m\u001b[0m\n\u001b[1;32m-> 1344\u001b[1;33m                 \u001b[0mresponse\u001b[0m\u001b[1;33m.\u001b[0m\u001b[0mbegin\u001b[0m\u001b[1;33m(\u001b[0m\u001b[1;33m)\u001b[0m\u001b[1;33m\u001b[0m\u001b[1;33m\u001b[0m\u001b[0m\n\u001b[0m\u001b[0;32m   1345\u001b[0m             \u001b[1;32mexcept\u001b[0m \u001b[0mConnectionError\u001b[0m\u001b[1;33m:\u001b[0m\u001b[1;33m\u001b[0m\u001b[1;33m\u001b[0m\u001b[0m\n",
      "\u001b[1;32mC:\\ProgramData\\Anaconda3\\lib\\http\\client.py\u001b[0m in \u001b[0;36mbegin\u001b[1;34m(self)\u001b[0m\n\u001b[0;32m    305\u001b[0m         \u001b[1;32mwhile\u001b[0m \u001b[1;32mTrue\u001b[0m\u001b[1;33m:\u001b[0m\u001b[1;33m\u001b[0m\u001b[1;33m\u001b[0m\u001b[0m\n\u001b[1;32m--> 306\u001b[1;33m             \u001b[0mversion\u001b[0m\u001b[1;33m,\u001b[0m \u001b[0mstatus\u001b[0m\u001b[1;33m,\u001b[0m \u001b[0mreason\u001b[0m \u001b[1;33m=\u001b[0m \u001b[0mself\u001b[0m\u001b[1;33m.\u001b[0m\u001b[0m_read_status\u001b[0m\u001b[1;33m(\u001b[0m\u001b[1;33m)\u001b[0m\u001b[1;33m\u001b[0m\u001b[1;33m\u001b[0m\u001b[0m\n\u001b[0m\u001b[0;32m    307\u001b[0m             \u001b[1;32mif\u001b[0m \u001b[0mstatus\u001b[0m \u001b[1;33m!=\u001b[0m \u001b[0mCONTINUE\u001b[0m\u001b[1;33m:\u001b[0m\u001b[1;33m\u001b[0m\u001b[1;33m\u001b[0m\u001b[0m\n",
      "\u001b[1;32mC:\\ProgramData\\Anaconda3\\lib\\http\\client.py\u001b[0m in \u001b[0;36m_read_status\u001b[1;34m(self)\u001b[0m\n\u001b[0;32m    266\u001b[0m     \u001b[1;32mdef\u001b[0m \u001b[0m_read_status\u001b[0m\u001b[1;33m(\u001b[0m\u001b[0mself\u001b[0m\u001b[1;33m)\u001b[0m\u001b[1;33m:\u001b[0m\u001b[1;33m\u001b[0m\u001b[1;33m\u001b[0m\u001b[0m\n\u001b[1;32m--> 267\u001b[1;33m         \u001b[0mline\u001b[0m \u001b[1;33m=\u001b[0m \u001b[0mstr\u001b[0m\u001b[1;33m(\u001b[0m\u001b[0mself\u001b[0m\u001b[1;33m.\u001b[0m\u001b[0mfp\u001b[0m\u001b[1;33m.\u001b[0m\u001b[0mreadline\u001b[0m\u001b[1;33m(\u001b[0m\u001b[0m_MAXLINE\u001b[0m \u001b[1;33m+\u001b[0m \u001b[1;36m1\u001b[0m\u001b[1;33m)\u001b[0m\u001b[1;33m,\u001b[0m \u001b[1;34m\"iso-8859-1\"\u001b[0m\u001b[1;33m)\u001b[0m\u001b[1;33m\u001b[0m\u001b[1;33m\u001b[0m\u001b[0m\n\u001b[0m\u001b[0;32m    268\u001b[0m         \u001b[1;32mif\u001b[0m \u001b[0mlen\u001b[0m\u001b[1;33m(\u001b[0m\u001b[0mline\u001b[0m\u001b[1;33m)\u001b[0m \u001b[1;33m>\u001b[0m \u001b[0m_MAXLINE\u001b[0m\u001b[1;33m:\u001b[0m\u001b[1;33m\u001b[0m\u001b[1;33m\u001b[0m\u001b[0m\n",
      "\u001b[1;32mC:\\ProgramData\\Anaconda3\\lib\\socket.py\u001b[0m in \u001b[0;36mreadinto\u001b[1;34m(self, b)\u001b[0m\n\u001b[0;32m    588\u001b[0m             \u001b[1;32mtry\u001b[0m\u001b[1;33m:\u001b[0m\u001b[1;33m\u001b[0m\u001b[1;33m\u001b[0m\u001b[0m\n\u001b[1;32m--> 589\u001b[1;33m                 \u001b[1;32mreturn\u001b[0m \u001b[0mself\u001b[0m\u001b[1;33m.\u001b[0m\u001b[0m_sock\u001b[0m\u001b[1;33m.\u001b[0m\u001b[0mrecv_into\u001b[0m\u001b[1;33m(\u001b[0m\u001b[0mb\u001b[0m\u001b[1;33m)\u001b[0m\u001b[1;33m\u001b[0m\u001b[1;33m\u001b[0m\u001b[0m\n\u001b[0m\u001b[0;32m    590\u001b[0m             \u001b[1;32mexcept\u001b[0m \u001b[0mtimeout\u001b[0m\u001b[1;33m:\u001b[0m\u001b[1;33m\u001b[0m\u001b[1;33m\u001b[0m\u001b[0m\n",
      "\u001b[1;32mC:\\ProgramData\\Anaconda3\\lib\\site-packages\\urllib3\\contrib\\pyopenssl.py\u001b[0m in \u001b[0;36mrecv_into\u001b[1;34m(self, *args, **kwargs)\u001b[0m\n\u001b[0;32m    325\u001b[0m             \u001b[1;32mif\u001b[0m \u001b[1;32mnot\u001b[0m \u001b[0mutil\u001b[0m\u001b[1;33m.\u001b[0m\u001b[0mwait_for_read\u001b[0m\u001b[1;33m(\u001b[0m\u001b[0mself\u001b[0m\u001b[1;33m.\u001b[0m\u001b[0msocket\u001b[0m\u001b[1;33m,\u001b[0m \u001b[0mself\u001b[0m\u001b[1;33m.\u001b[0m\u001b[0msocket\u001b[0m\u001b[1;33m.\u001b[0m\u001b[0mgettimeout\u001b[0m\u001b[1;33m(\u001b[0m\u001b[1;33m)\u001b[0m\u001b[1;33m)\u001b[0m\u001b[1;33m:\u001b[0m\u001b[1;33m\u001b[0m\u001b[1;33m\u001b[0m\u001b[0m\n\u001b[1;32m--> 326\u001b[1;33m                 \u001b[1;32mraise\u001b[0m \u001b[0mtimeout\u001b[0m\u001b[1;33m(\u001b[0m\u001b[1;34m\"The read operation timed out\"\u001b[0m\u001b[1;33m)\u001b[0m\u001b[1;33m\u001b[0m\u001b[1;33m\u001b[0m\u001b[0m\n\u001b[0m\u001b[0;32m    327\u001b[0m             \u001b[1;32melse\u001b[0m\u001b[1;33m:\u001b[0m\u001b[1;33m\u001b[0m\u001b[1;33m\u001b[0m\u001b[0m\n",
      "\u001b[1;31mtimeout\u001b[0m: The read operation timed out",
      "\nDuring handling of the above exception, another exception occurred:\n",
      "\u001b[1;31mReadTimeoutError\u001b[0m                          Traceback (most recent call last)",
      "\u001b[1;32mC:\\ProgramData\\Anaconda3\\lib\\site-packages\\requests\\adapters.py\u001b[0m in \u001b[0;36msend\u001b[1;34m(self, request, stream, timeout, verify, cert, proxies)\u001b[0m\n\u001b[0;32m    448\u001b[0m                     \u001b[0mretries\u001b[0m\u001b[1;33m=\u001b[0m\u001b[0mself\u001b[0m\u001b[1;33m.\u001b[0m\u001b[0mmax_retries\u001b[0m\u001b[1;33m,\u001b[0m\u001b[1;33m\u001b[0m\u001b[1;33m\u001b[0m\u001b[0m\n\u001b[1;32m--> 449\u001b[1;33m                     \u001b[0mtimeout\u001b[0m\u001b[1;33m=\u001b[0m\u001b[0mtimeout\u001b[0m\u001b[1;33m\u001b[0m\u001b[1;33m\u001b[0m\u001b[0m\n\u001b[0m\u001b[0;32m    450\u001b[0m                 )\n",
      "\u001b[1;32mC:\\ProgramData\\Anaconda3\\lib\\site-packages\\urllib3\\connectionpool.py\u001b[0m in \u001b[0;36murlopen\u001b[1;34m(self, method, url, body, headers, retries, redirect, assert_same_host, timeout, pool_timeout, release_conn, chunked, body_pos, **response_kw)\u001b[0m\n\u001b[0;32m    719\u001b[0m             retries = retries.increment(\n\u001b[1;32m--> 720\u001b[1;33m                 \u001b[0mmethod\u001b[0m\u001b[1;33m,\u001b[0m \u001b[0murl\u001b[0m\u001b[1;33m,\u001b[0m \u001b[0merror\u001b[0m\u001b[1;33m=\u001b[0m\u001b[0me\u001b[0m\u001b[1;33m,\u001b[0m \u001b[0m_pool\u001b[0m\u001b[1;33m=\u001b[0m\u001b[0mself\u001b[0m\u001b[1;33m,\u001b[0m \u001b[0m_stacktrace\u001b[0m\u001b[1;33m=\u001b[0m\u001b[0msys\u001b[0m\u001b[1;33m.\u001b[0m\u001b[0mexc_info\u001b[0m\u001b[1;33m(\u001b[0m\u001b[1;33m)\u001b[0m\u001b[1;33m[\u001b[0m\u001b[1;36m2\u001b[0m\u001b[1;33m]\u001b[0m\u001b[1;33m\u001b[0m\u001b[1;33m\u001b[0m\u001b[0m\n\u001b[0m\u001b[0;32m    721\u001b[0m             )\n",
      "\u001b[1;32mC:\\ProgramData\\Anaconda3\\lib\\site-packages\\urllib3\\util\\retry.py\u001b[0m in \u001b[0;36mincrement\u001b[1;34m(self, method, url, response, error, _pool, _stacktrace)\u001b[0m\n\u001b[0;32m    399\u001b[0m             \u001b[1;32mif\u001b[0m \u001b[0mread\u001b[0m \u001b[1;32mis\u001b[0m \u001b[1;32mFalse\u001b[0m \u001b[1;32mor\u001b[0m \u001b[1;32mnot\u001b[0m \u001b[0mself\u001b[0m\u001b[1;33m.\u001b[0m\u001b[0m_is_method_retryable\u001b[0m\u001b[1;33m(\u001b[0m\u001b[0mmethod\u001b[0m\u001b[1;33m)\u001b[0m\u001b[1;33m:\u001b[0m\u001b[1;33m\u001b[0m\u001b[1;33m\u001b[0m\u001b[0m\n\u001b[1;32m--> 400\u001b[1;33m                 \u001b[1;32mraise\u001b[0m \u001b[0msix\u001b[0m\u001b[1;33m.\u001b[0m\u001b[0mreraise\u001b[0m\u001b[1;33m(\u001b[0m\u001b[0mtype\u001b[0m\u001b[1;33m(\u001b[0m\u001b[0merror\u001b[0m\u001b[1;33m)\u001b[0m\u001b[1;33m,\u001b[0m \u001b[0merror\u001b[0m\u001b[1;33m,\u001b[0m \u001b[0m_stacktrace\u001b[0m\u001b[1;33m)\u001b[0m\u001b[1;33m\u001b[0m\u001b[1;33m\u001b[0m\u001b[0m\n\u001b[0m\u001b[0;32m    401\u001b[0m             \u001b[1;32melif\u001b[0m \u001b[0mread\u001b[0m \u001b[1;32mis\u001b[0m \u001b[1;32mnot\u001b[0m \u001b[1;32mNone\u001b[0m\u001b[1;33m:\u001b[0m\u001b[1;33m\u001b[0m\u001b[1;33m\u001b[0m\u001b[0m\n",
      "\u001b[1;32mC:\\ProgramData\\Anaconda3\\lib\\site-packages\\urllib3\\packages\\six.py\u001b[0m in \u001b[0;36mreraise\u001b[1;34m(tp, value, tb)\u001b[0m\n\u001b[0;32m    734\u001b[0m                 \u001b[1;32mraise\u001b[0m \u001b[0mvalue\u001b[0m\u001b[1;33m.\u001b[0m\u001b[0mwith_traceback\u001b[0m\u001b[1;33m(\u001b[0m\u001b[0mtb\u001b[0m\u001b[1;33m)\u001b[0m\u001b[1;33m\u001b[0m\u001b[1;33m\u001b[0m\u001b[0m\n\u001b[1;32m--> 735\u001b[1;33m             \u001b[1;32mraise\u001b[0m \u001b[0mvalue\u001b[0m\u001b[1;33m\u001b[0m\u001b[1;33m\u001b[0m\u001b[0m\n\u001b[0m\u001b[0;32m    736\u001b[0m         \u001b[1;32mfinally\u001b[0m\u001b[1;33m:\u001b[0m\u001b[1;33m\u001b[0m\u001b[1;33m\u001b[0m\u001b[0m\n",
      "\u001b[1;32mC:\\ProgramData\\Anaconda3\\lib\\site-packages\\urllib3\\connectionpool.py\u001b[0m in \u001b[0;36murlopen\u001b[1;34m(self, method, url, body, headers, retries, redirect, assert_same_host, timeout, pool_timeout, release_conn, chunked, body_pos, **response_kw)\u001b[0m\n\u001b[0;32m    671\u001b[0m                 \u001b[0mheaders\u001b[0m\u001b[1;33m=\u001b[0m\u001b[0mheaders\u001b[0m\u001b[1;33m,\u001b[0m\u001b[1;33m\u001b[0m\u001b[1;33m\u001b[0m\u001b[0m\n\u001b[1;32m--> 672\u001b[1;33m                 \u001b[0mchunked\u001b[0m\u001b[1;33m=\u001b[0m\u001b[0mchunked\u001b[0m\u001b[1;33m,\u001b[0m\u001b[1;33m\u001b[0m\u001b[1;33m\u001b[0m\u001b[0m\n\u001b[0m\u001b[0;32m    673\u001b[0m             )\n",
      "\u001b[1;32mC:\\ProgramData\\Anaconda3\\lib\\site-packages\\urllib3\\connectionpool.py\u001b[0m in \u001b[0;36m_make_request\u001b[1;34m(self, conn, method, url, timeout, chunked, **httplib_request_kw)\u001b[0m\n\u001b[0;32m    422\u001b[0m         \u001b[1;32mexcept\u001b[0m \u001b[1;33m(\u001b[0m\u001b[0mSocketTimeout\u001b[0m\u001b[1;33m,\u001b[0m \u001b[0mBaseSSLError\u001b[0m\u001b[1;33m,\u001b[0m \u001b[0mSocketError\u001b[0m\u001b[1;33m)\u001b[0m \u001b[1;32mas\u001b[0m \u001b[0me\u001b[0m\u001b[1;33m:\u001b[0m\u001b[1;33m\u001b[0m\u001b[1;33m\u001b[0m\u001b[0m\n\u001b[1;32m--> 423\u001b[1;33m             \u001b[0mself\u001b[0m\u001b[1;33m.\u001b[0m\u001b[0m_raise_timeout\u001b[0m\u001b[1;33m(\u001b[0m\u001b[0merr\u001b[0m\u001b[1;33m=\u001b[0m\u001b[0me\u001b[0m\u001b[1;33m,\u001b[0m \u001b[0murl\u001b[0m\u001b[1;33m=\u001b[0m\u001b[0murl\u001b[0m\u001b[1;33m,\u001b[0m \u001b[0mtimeout_value\u001b[0m\u001b[1;33m=\u001b[0m\u001b[0mread_timeout\u001b[0m\u001b[1;33m)\u001b[0m\u001b[1;33m\u001b[0m\u001b[1;33m\u001b[0m\u001b[0m\n\u001b[0m\u001b[0;32m    424\u001b[0m             \u001b[1;32mraise\u001b[0m\u001b[1;33m\u001b[0m\u001b[1;33m\u001b[0m\u001b[0m\n",
      "\u001b[1;32mC:\\ProgramData\\Anaconda3\\lib\\site-packages\\urllib3\\connectionpool.py\u001b[0m in \u001b[0;36m_raise_timeout\u001b[1;34m(self, err, url, timeout_value)\u001b[0m\n\u001b[0;32m    330\u001b[0m             raise ReadTimeoutError(\n\u001b[1;32m--> 331\u001b[1;33m                 \u001b[0mself\u001b[0m\u001b[1;33m,\u001b[0m \u001b[0murl\u001b[0m\u001b[1;33m,\u001b[0m \u001b[1;34m\"Read timed out. (read timeout=%s)\"\u001b[0m \u001b[1;33m%\u001b[0m \u001b[0mtimeout_value\u001b[0m\u001b[1;33m\u001b[0m\u001b[1;33m\u001b[0m\u001b[0m\n\u001b[0m\u001b[0;32m    332\u001b[0m             )\n",
      "\u001b[1;31mReadTimeoutError\u001b[0m: HTTPSConnectionPool(host='api.spotify.com', port=443): Read timed out. (read timeout=5)",
      "\nDuring handling of the above exception, another exception occurred:\n",
      "\u001b[1;31mReadTimeout\u001b[0m                               Traceback (most recent call last)",
      "\u001b[1;32m<ipython-input-71-b1c8e4115c9b>\u001b[0m in \u001b[0;36m<module>\u001b[1;34m\u001b[0m\n\u001b[0;32m     11\u001b[0m     \u001b[1;32mtry\u001b[0m\u001b[1;33m:\u001b[0m\u001b[1;33m\u001b[0m\u001b[1;33m\u001b[0m\u001b[0m\n\u001b[1;32m---> 12\u001b[1;33m         \u001b[0mres\u001b[0m \u001b[1;33m=\u001b[0m \u001b[0msp\u001b[0m\u001b[1;33m.\u001b[0m\u001b[0maudio_analysis\u001b[0m\u001b[1;33m(\u001b[0m\u001b[0msong_id\u001b[0m\u001b[1;33m)\u001b[0m\u001b[1;33m\u001b[0m\u001b[1;33m\u001b[0m\u001b[0m\n\u001b[0m\u001b[0;32m     13\u001b[0m     \u001b[1;32mexcept\u001b[0m \u001b[0mReadTimeout\u001b[0m\u001b[1;33m:\u001b[0m\u001b[1;33m\u001b[0m\u001b[1;33m\u001b[0m\u001b[0m\n",
      "\u001b[1;32mC:\\ProgramData\\Anaconda3\\lib\\site-packages\\spotipy\\client.py\u001b[0m in \u001b[0;36maudio_analysis\u001b[1;34m(self, track_id)\u001b[0m\n\u001b[0;32m   1236\u001b[0m         \u001b[0mtrid\u001b[0m \u001b[1;33m=\u001b[0m \u001b[0mself\u001b[0m\u001b[1;33m.\u001b[0m\u001b[0m_get_id\u001b[0m\u001b[1;33m(\u001b[0m\u001b[1;34m\"track\"\u001b[0m\u001b[1;33m,\u001b[0m \u001b[0mtrack_id\u001b[0m\u001b[1;33m)\u001b[0m\u001b[1;33m\u001b[0m\u001b[1;33m\u001b[0m\u001b[0m\n\u001b[1;32m-> 1237\u001b[1;33m         \u001b[1;32mreturn\u001b[0m \u001b[0mself\u001b[0m\u001b[1;33m.\u001b[0m\u001b[0m_get\u001b[0m\u001b[1;33m(\u001b[0m\u001b[1;34m\"audio-analysis/\"\u001b[0m \u001b[1;33m+\u001b[0m \u001b[0mtrid\u001b[0m\u001b[1;33m)\u001b[0m\u001b[1;33m\u001b[0m\u001b[1;33m\u001b[0m\u001b[0m\n\u001b[0m\u001b[0;32m   1238\u001b[0m \u001b[1;33m\u001b[0m\u001b[0m\n",
      "\u001b[1;32mC:\\ProgramData\\Anaconda3\\lib\\site-packages\\spotipy\\client.py\u001b[0m in \u001b[0;36m_get\u001b[1;34m(self, url, args, payload, **kwargs)\u001b[0m\n\u001b[0;32m    209\u001b[0m \u001b[1;33m\u001b[0m\u001b[0m\n\u001b[1;32m--> 210\u001b[1;33m         \u001b[1;32mreturn\u001b[0m \u001b[0mself\u001b[0m\u001b[1;33m.\u001b[0m\u001b[0m_internal_call\u001b[0m\u001b[1;33m(\u001b[0m\u001b[1;34m\"GET\"\u001b[0m\u001b[1;33m,\u001b[0m \u001b[0murl\u001b[0m\u001b[1;33m,\u001b[0m \u001b[0mpayload\u001b[0m\u001b[1;33m,\u001b[0m \u001b[0mkwargs\u001b[0m\u001b[1;33m)\u001b[0m\u001b[1;33m\u001b[0m\u001b[1;33m\u001b[0m\u001b[0m\n\u001b[0m\u001b[0;32m    211\u001b[0m \u001b[1;33m\u001b[0m\u001b[0m\n",
      "\u001b[1;32mC:\\ProgramData\\Anaconda3\\lib\\site-packages\\spotipy\\client.py\u001b[0m in \u001b[0;36m_internal_call\u001b[1;34m(self, method, url, payload, params)\u001b[0m\n\u001b[0;32m    171\u001b[0m                 \u001b[0mmethod\u001b[0m\u001b[1;33m,\u001b[0m \u001b[0murl\u001b[0m\u001b[1;33m,\u001b[0m \u001b[0mheaders\u001b[0m\u001b[1;33m=\u001b[0m\u001b[0mheaders\u001b[0m\u001b[1;33m,\u001b[0m \u001b[0mproxies\u001b[0m\u001b[1;33m=\u001b[0m\u001b[0mself\u001b[0m\u001b[1;33m.\u001b[0m\u001b[0mproxies\u001b[0m\u001b[1;33m,\u001b[0m\u001b[1;33m\u001b[0m\u001b[1;33m\u001b[0m\u001b[0m\n\u001b[1;32m--> 172\u001b[1;33m                 \u001b[0mtimeout\u001b[0m\u001b[1;33m=\u001b[0m\u001b[0mself\u001b[0m\u001b[1;33m.\u001b[0m\u001b[0mrequests_timeout\u001b[0m\u001b[1;33m,\u001b[0m \u001b[1;33m**\u001b[0m\u001b[0margs\u001b[0m\u001b[1;33m\u001b[0m\u001b[1;33m\u001b[0m\u001b[0m\n\u001b[0m\u001b[0;32m    173\u001b[0m             )\n",
      "\u001b[1;32mC:\\ProgramData\\Anaconda3\\lib\\site-packages\\requests\\sessions.py\u001b[0m in \u001b[0;36mrequest\u001b[1;34m(self, method, url, params, data, headers, cookies, files, auth, timeout, allow_redirects, proxies, hooks, stream, verify, cert, json)\u001b[0m\n\u001b[0;32m    532\u001b[0m         \u001b[0msend_kwargs\u001b[0m\u001b[1;33m.\u001b[0m\u001b[0mupdate\u001b[0m\u001b[1;33m(\u001b[0m\u001b[0msettings\u001b[0m\u001b[1;33m)\u001b[0m\u001b[1;33m\u001b[0m\u001b[1;33m\u001b[0m\u001b[0m\n\u001b[1;32m--> 533\u001b[1;33m         \u001b[0mresp\u001b[0m \u001b[1;33m=\u001b[0m \u001b[0mself\u001b[0m\u001b[1;33m.\u001b[0m\u001b[0msend\u001b[0m\u001b[1;33m(\u001b[0m\u001b[0mprep\u001b[0m\u001b[1;33m,\u001b[0m \u001b[1;33m**\u001b[0m\u001b[0msend_kwargs\u001b[0m\u001b[1;33m)\u001b[0m\u001b[1;33m\u001b[0m\u001b[1;33m\u001b[0m\u001b[0m\n\u001b[0m\u001b[0;32m    534\u001b[0m \u001b[1;33m\u001b[0m\u001b[0m\n",
      "\u001b[1;32mC:\\ProgramData\\Anaconda3\\lib\\site-packages\\requests\\sessions.py\u001b[0m in \u001b[0;36msend\u001b[1;34m(self, request, **kwargs)\u001b[0m\n\u001b[0;32m    645\u001b[0m         \u001b[1;31m# Send the request\u001b[0m\u001b[1;33m\u001b[0m\u001b[1;33m\u001b[0m\u001b[1;33m\u001b[0m\u001b[0m\n\u001b[1;32m--> 646\u001b[1;33m         \u001b[0mr\u001b[0m \u001b[1;33m=\u001b[0m \u001b[0madapter\u001b[0m\u001b[1;33m.\u001b[0m\u001b[0msend\u001b[0m\u001b[1;33m(\u001b[0m\u001b[0mrequest\u001b[0m\u001b[1;33m,\u001b[0m \u001b[1;33m**\u001b[0m\u001b[0mkwargs\u001b[0m\u001b[1;33m)\u001b[0m\u001b[1;33m\u001b[0m\u001b[1;33m\u001b[0m\u001b[0m\n\u001b[0m\u001b[0;32m    647\u001b[0m \u001b[1;33m\u001b[0m\u001b[0m\n",
      "\u001b[1;32mC:\\ProgramData\\Anaconda3\\lib\\site-packages\\requests\\adapters.py\u001b[0m in \u001b[0;36msend\u001b[1;34m(self, request, stream, timeout, verify, cert, proxies)\u001b[0m\n\u001b[0;32m    528\u001b[0m             \u001b[1;32melif\u001b[0m \u001b[0misinstance\u001b[0m\u001b[1;33m(\u001b[0m\u001b[0me\u001b[0m\u001b[1;33m,\u001b[0m \u001b[0mReadTimeoutError\u001b[0m\u001b[1;33m)\u001b[0m\u001b[1;33m:\u001b[0m\u001b[1;33m\u001b[0m\u001b[1;33m\u001b[0m\u001b[0m\n\u001b[1;32m--> 529\u001b[1;33m                 \u001b[1;32mraise\u001b[0m \u001b[0mReadTimeout\u001b[0m\u001b[1;33m(\u001b[0m\u001b[0me\u001b[0m\u001b[1;33m,\u001b[0m \u001b[0mrequest\u001b[0m\u001b[1;33m=\u001b[0m\u001b[0mrequest\u001b[0m\u001b[1;33m)\u001b[0m\u001b[1;33m\u001b[0m\u001b[1;33m\u001b[0m\u001b[0m\n\u001b[0m\u001b[0;32m    530\u001b[0m             \u001b[1;32melse\u001b[0m\u001b[1;33m:\u001b[0m\u001b[1;33m\u001b[0m\u001b[1;33m\u001b[0m\u001b[0m\n",
      "\u001b[1;31mReadTimeout\u001b[0m: HTTPSConnectionPool(host='api.spotify.com', port=443): Read timed out. (read timeout=5)",
      "\nDuring handling of the above exception, another exception occurred:\n",
      "\u001b[1;31mNameError\u001b[0m                                 Traceback (most recent call last)",
      "\u001b[1;32m<ipython-input-71-b1c8e4115c9b>\u001b[0m in \u001b[0;36m<module>\u001b[1;34m\u001b[0m\n\u001b[0;32m     11\u001b[0m     \u001b[1;32mtry\u001b[0m\u001b[1;33m:\u001b[0m\u001b[1;33m\u001b[0m\u001b[1;33m\u001b[0m\u001b[0m\n\u001b[0;32m     12\u001b[0m         \u001b[0mres\u001b[0m \u001b[1;33m=\u001b[0m \u001b[0msp\u001b[0m\u001b[1;33m.\u001b[0m\u001b[0maudio_analysis\u001b[0m\u001b[1;33m(\u001b[0m\u001b[0msong_id\u001b[0m\u001b[1;33m)\u001b[0m\u001b[1;33m\u001b[0m\u001b[1;33m\u001b[0m\u001b[0m\n\u001b[1;32m---> 13\u001b[1;33m     \u001b[1;32mexcept\u001b[0m \u001b[0mReadTimeout\u001b[0m\u001b[1;33m:\u001b[0m\u001b[1;33m\u001b[0m\u001b[1;33m\u001b[0m\u001b[0m\n\u001b[0m\u001b[0;32m     14\u001b[0m         \u001b[0mtime\u001b[0m\u001b[1;33m.\u001b[0m\u001b[0msleep\u001b[0m\u001b[1;33m(\u001b[0m\u001b[1;36m5.1\u001b[0m\u001b[1;33m)\u001b[0m\u001b[1;33m\u001b[0m\u001b[1;33m\u001b[0m\u001b[0m\n\u001b[0;32m     15\u001b[0m         \u001b[0mres\u001b[0m \u001b[1;33m=\u001b[0m \u001b[0msp\u001b[0m\u001b[1;33m.\u001b[0m\u001b[0maudio_analysis\u001b[0m\u001b[1;33m(\u001b[0m\u001b[0msong_id\u001b[0m\u001b[1;33m)\u001b[0m\u001b[1;33m\u001b[0m\u001b[1;33m\u001b[0m\u001b[0m\n",
      "\u001b[1;31mNameError\u001b[0m: name 'ReadTimeout' is not defined"
     ]
    },
    {
     "data": {
      "application/javascript": [
       "\n",
       "            setTimeout(function() {\n",
       "                var nbb_cell_id = 71;\n",
       "                var nbb_unformatted_code = \"credentials = oauth2.SpotifyClientCredentials(\\n    client_id=CLIENT_ID, client_secret=CLIENT_SECRET\\n)\\ntoken = credentials.get_access_token()\\nsp = spotipy.Spotify(auth=token)\\nsong_pitches = []\\nsong_timbres = []\\ncount = 0\\nload_bar = 20\\nfor song_id in df[\\\"id\\\"]:\\n    try:\\n        res = sp.audio_analysis(song_id)\\n    except ReadTimeout:\\n        time.sleep(5.1)\\n        res = sp.audio_analysis(song_id)\\n    p, t = get_vecs(res)\\n\\n    pitch_cov_1d = mean_vector_cov_1d(p, \\\"pitch\\\")\\n    timbre_cov_1d = mean_vector_cov_1d(t, \\\"timbre\\\")\\n\\n    pitch_cov_1d[\\\"id\\\"] = song_id\\n    timbre_cov_1d[\\\"id\\\"] = song_id\\n\\n    song_pitches.append(pitch_cov_1d)\\n    song_timbres.append(timbre_cov_1d)\\n\\n    count += 1\\n    if count % load_bar == 0:\\n        print(f\\\"{(count//load_bar)*load_bar} songs done\\\")\\n    time.sleep(1)\";\n",
       "                var nbb_formatted_code = \"credentials = oauth2.SpotifyClientCredentials(\\n    client_id=CLIENT_ID, client_secret=CLIENT_SECRET\\n)\\ntoken = credentials.get_access_token()\\nsp = spotipy.Spotify(auth=token)\\nsong_pitches = []\\nsong_timbres = []\\ncount = 0\\nload_bar = 20\\nfor song_id in df[\\\"id\\\"]:\\n    try:\\n        res = sp.audio_analysis(song_id)\\n    except ReadTimeout:\\n        time.sleep(5.1)\\n        res = sp.audio_analysis(song_id)\\n    p, t = get_vecs(res)\\n\\n    pitch_cov_1d = mean_vector_cov_1d(p, \\\"pitch\\\")\\n    timbre_cov_1d = mean_vector_cov_1d(t, \\\"timbre\\\")\\n\\n    pitch_cov_1d[\\\"id\\\"] = song_id\\n    timbre_cov_1d[\\\"id\\\"] = song_id\\n\\n    song_pitches.append(pitch_cov_1d)\\n    song_timbres.append(timbre_cov_1d)\\n\\n    count += 1\\n    if count % load_bar == 0:\\n        print(f\\\"{(count//load_bar)*load_bar} songs done\\\")\\n    time.sleep(1)\";\n",
       "                var nbb_cells = Jupyter.notebook.get_cells();\n",
       "                for (var i = 0; i < nbb_cells.length; ++i) {\n",
       "                    if (nbb_cells[i].input_prompt_number == nbb_cell_id) {\n",
       "                        if (nbb_cells[i].get_text() == nbb_unformatted_code) {\n",
       "                             nbb_cells[i].set_text(nbb_formatted_code);\n",
       "                        }\n",
       "                        break;\n",
       "                    }\n",
       "                }\n",
       "            }, 500);\n",
       "            "
      ],
      "text/plain": [
       "<IPython.core.display.Javascript object>"
      ]
     },
     "metadata": {},
     "output_type": "display_data"
    }
   ],
   "source": [
    "credentials = oauth2.SpotifyClientCredentials(\n",
    "    client_id=CLIENT_ID, client_secret=CLIENT_SECRET\n",
    ")\n",
    "token = credentials.get_access_token()\n",
    "sp = spotipy.Spotify(auth=token)\n",
    "song_pitches = []\n",
    "song_timbres = []\n",
    "count = 0\n",
    "load_bar = 20\n",
    "for song_id in df[\"id\"]:\n",
    "    try:\n",
    "        res = sp.audio_analysis(song_id)\n",
    "    except ReadTimeout:\n",
    "        time.sleep(5.1)\n",
    "        res = sp.audio_analysis(song_id)\n",
    "    p, t = get_vecs(res)\n",
    "\n",
    "    pitch_cov_1d = mean_vector_cov_1d(p, \"pitch\")\n",
    "    timbre_cov_1d = mean_vector_cov_1d(t, \"timbre\")\n",
    "\n",
    "    pitch_cov_1d[\"id\"] = song_id\n",
    "    timbre_cov_1d[\"id\"] = song_id\n",
    "\n",
    "    song_pitches.append(pitch_cov_1d)\n",
    "    song_timbres.append(timbre_cov_1d)\n",
    "\n",
    "    count += 1\n",
    "    if count % load_bar == 0:\n",
    "        print(f\"{(count//load_bar)*load_bar} songs done\")\n",
    "    time.sleep(1)"
   ]
  },
  {
   "cell_type": "code",
   "execution_count": 109,
   "metadata": {},
   "outputs": [
    {
     "data": {
      "text/plain": [
       "13071"
      ]
     },
     "execution_count": 109,
     "metadata": {},
     "output_type": "execute_result"
    },
    {
     "data": {
      "application/javascript": [
       "\n",
       "            setTimeout(function() {\n",
       "                var nbb_cell_id = 109;\n",
       "                var nbb_unformatted_code = \"len(song_pitches)\";\n",
       "                var nbb_formatted_code = \"len(song_pitches)\";\n",
       "                var nbb_cells = Jupyter.notebook.get_cells();\n",
       "                for (var i = 0; i < nbb_cells.length; ++i) {\n",
       "                    if (nbb_cells[i].input_prompt_number == nbb_cell_id) {\n",
       "                        if (nbb_cells[i].get_text() == nbb_unformatted_code) {\n",
       "                             nbb_cells[i].set_text(nbb_formatted_code);\n",
       "                        }\n",
       "                        break;\n",
       "                    }\n",
       "                }\n",
       "            }, 500);\n",
       "            "
      ],
      "text/plain": [
       "<IPython.core.display.Javascript object>"
      ]
     },
     "metadata": {},
     "output_type": "display_data"
    }
   ],
   "source": [
    "len(song_pitches)"
   ]
  },
  {
   "cell_type": "code",
   "execution_count": 108,
   "metadata": {
    "scrolled": false
   },
   "outputs": [
    {
     "name": "stdout",
     "output_type": "stream",
     "text": [
      "7980 songs done\n",
      "8000 songs done\n",
      "8020 songs done\n",
      "8040 songs done\n",
      "8060 songs done\n",
      "8080 songs done\n"
     ]
    },
    {
     "name": "stderr",
     "output_type": "stream",
     "text": [
      "C:\\ProgramData\\Anaconda3\\lib\\site-packages\\ipykernel_launcher.py:11: DeprecationWarning: You're using 'as_dict = True'.get_access_token will return the token string directly in future versions. Please adjust your code accordingly, or use get_cached_token instead.\n",
      "  # This is added back by InteractiveShellApp.init_path()\n"
     ]
    },
    {
     "name": "stdout",
     "output_type": "stream",
     "text": [
      "8100 songs done\n",
      "8120 songs done\n",
      "8140 songs done\n",
      "8160 songs done\n",
      "8180 songs done\n",
      "8200 songs done\n",
      "8220 songs done\n",
      "8240 songs done\n",
      "8260 songs done\n",
      "8280 songs done\n",
      "8300 songs done\n",
      "8320 songs done\n",
      "8340 songs done\n",
      "8360 songs done\n",
      "8380 songs done\n",
      "8400 songs done\n",
      "8420 songs done\n",
      "8440 songs done\n",
      "8460 songs done\n",
      "8480 songs done\n",
      "8500 songs done\n",
      "8520 songs done\n",
      "8540 songs done\n",
      "8560 songs done\n",
      "8580 songs done\n",
      "8600 songs done\n",
      "8620 songs done\n",
      "8640 songs done\n",
      "8660 songs done\n",
      "8680 songs done\n",
      "8700 songs done\n",
      "8720 songs done\n",
      "8740 songs done\n",
      "8760 songs done\n",
      "8780 songs done\n",
      "8800 songs done\n",
      "8820 songs done\n",
      "8840 songs done\n",
      "8860 songs done\n",
      "8880 songs done\n",
      "8900 songs done\n",
      "8920 songs done\n",
      "8940 songs done\n",
      "8960 songs done\n",
      "8980 songs done\n",
      "9000 songs done\n",
      "9020 songs done\n",
      "9040 songs done\n",
      "9060 songs done\n",
      "9080 songs done\n",
      "9100 songs done\n",
      "9120 songs done\n",
      "9140 songs done\n",
      "9160 songs done\n",
      "9180 songs done\n",
      "9200 songs done\n",
      "9220 songs done\n",
      "9240 songs done\n",
      "9260 songs done\n",
      "9280 songs done\n",
      "9300 songs done\n",
      "9320 songs done\n",
      "9340 songs done\n",
      "9360 songs done\n",
      "9380 songs done\n",
      "9400 songs done\n",
      "9420 songs done\n",
      "9440 songs done\n",
      "9460 songs done\n",
      "9480 songs done\n",
      "9500 songs done\n",
      "9520 songs done\n",
      "9540 songs done\n",
      "9560 songs done\n",
      "9580 songs done\n",
      "9600 songs done\n",
      "9620 songs done\n",
      "9640 songs done\n",
      "9660 songs done\n",
      "9680 songs done\n",
      "9700 songs done\n",
      "9720 songs done\n",
      "9740 songs done\n",
      "9760 songs done\n",
      "9780 songs done\n",
      "9800 songs done\n",
      "9820 songs done\n",
      "9840 songs done\n",
      "9860 songs done\n",
      "9880 songs done\n",
      "9900 songs done\n",
      "9920 songs done\n",
      "9940 songs done\n",
      "9960 songs done\n",
      "9980 songs done\n",
      "10000 songs done\n",
      "10020 songs done\n",
      "10040 songs done\n",
      "10060 songs done\n",
      "10080 songs done\n",
      "10100 songs done\n",
      "10120 songs done\n",
      "10140 songs done\n",
      "10160 songs done\n",
      "10180 songs done\n",
      "10200 songs done\n",
      "10220 songs done\n",
      "10240 songs done\n",
      "10260 songs done\n",
      "10280 songs done\n",
      "10300 songs done\n",
      "10320 songs done\n",
      "10340 songs done\n",
      "10360 songs done\n",
      "10380 songs done\n",
      "10400 songs done\n",
      "10420 songs done\n",
      "10440 songs done\n",
      "10460 songs done\n",
      "10480 songs done\n",
      "10500 songs done\n",
      "10520 songs done\n",
      "10540 songs done\n",
      "10560 songs done\n",
      "10580 songs done\n",
      "10600 songs done\n",
      "10620 songs done\n",
      "10640 songs done\n",
      "10660 songs done\n",
      "10680 songs done\n",
      "10700 songs done\n",
      "10720 songs done\n",
      "10740 songs done\n",
      "10760 songs done\n",
      "10780 songs done\n",
      "10800 songs done\n",
      "10820 songs done\n",
      "10840 songs done\n",
      "10860 songs done\n",
      "10880 songs done\n",
      "10900 songs done\n",
      "10920 songs done\n",
      "10940 songs done\n",
      "10960 songs done\n",
      "10980 songs done\n",
      "11000 songs done\n",
      "11020 songs done\n",
      "11040 songs done\n",
      "11060 songs done\n",
      "11080 songs done\n",
      "11100 songs done\n",
      "11120 songs done\n",
      "11140 songs done\n",
      "11160 songs done\n",
      "11180 songs done\n",
      "11200 songs done\n",
      "11220 songs done\n",
      "11240 songs done\n",
      "11260 songs done\n",
      "11280 songs done\n",
      "11300 songs done\n",
      "11320 songs done\n",
      "11340 songs done\n",
      "11360 songs done\n",
      "11380 songs done\n",
      "11400 songs done\n",
      "11420 songs done\n",
      "11440 songs done\n",
      "11460 songs done\n",
      "11480 songs done\n",
      "11500 songs done\n",
      "11520 songs done\n",
      "11540 songs done\n",
      "11560 songs done\n",
      "11580 songs done\n",
      "11600 songs done\n",
      "11620 songs done\n",
      "11640 songs done\n",
      "11660 songs done\n",
      "11680 songs done\n",
      "11700 songs done\n",
      "11720 songs done\n",
      "11740 songs done\n",
      "11760 songs done\n",
      "11780 songs done\n",
      "11800 songs done\n",
      "11820 songs done\n",
      "11840 songs done\n",
      "11860 songs done\n",
      "11880 songs done\n",
      "11900 songs done\n",
      "11920 songs done\n",
      "11940 songs done\n",
      "11960 songs done\n",
      "11980 songs done\n",
      "12000 songs done\n",
      "12020 songs done\n",
      "12040 songs done\n",
      "12060 songs done\n",
      "12080 songs done\n",
      "12100 songs done\n",
      "12120 songs done\n",
      "12140 songs done\n",
      "12160 songs done\n",
      "12180 songs done\n",
      "12200 songs done\n",
      "12220 songs done\n",
      "12240 songs done\n",
      "12260 songs done\n",
      "12280 songs done\n",
      "12300 songs done\n",
      "12320 songs done\n",
      "12340 songs done\n",
      "12360 songs done\n",
      "12380 songs done\n",
      "12400 songs done\n",
      "12420 songs done\n",
      "12440 songs done\n",
      "12460 songs done\n",
      "12480 songs done\n",
      "12500 songs done\n",
      "12520 songs done\n",
      "12540 songs done\n",
      "12560 songs done\n",
      "12580 songs done\n",
      "12600 songs done\n",
      "12620 songs done\n",
      "12640 songs done\n",
      "12660 songs done\n",
      "12680 songs done\n",
      "12700 songs done\n",
      "12720 songs done\n",
      "12740 songs done\n",
      "12760 songs done\n",
      "12780 songs done\n",
      "12800 songs done\n",
      "12820 songs done\n",
      "12840 songs done\n",
      "12860 songs done\n",
      "12880 songs done\n",
      "12900 songs done\n",
      "12920 songs done\n",
      "12940 songs done\n",
      "12960 songs done\n",
      "12980 songs done\n",
      "13000 songs done\n",
      "13020 songs done\n",
      "13040 songs done\n",
      "13060 songs done\n"
     ]
    },
    {
     "data": {
      "application/javascript": [
       "\n",
       "            setTimeout(function() {\n",
       "                var nbb_cell_id = 108;\n",
       "                var nbb_unformatted_code = \"count = len(song_pitches)\\nload_bar = 20\\nfor song_id in df[\\\"id\\\"][len(song_pitches) :]:\\n    try:\\n        res = sp.audio_analysis(song_id)\\n    except:\\n        time.sleep(5.2)\\n        credentials = oauth2.SpotifyClientCredentials(\\n            client_id=CLIENT_ID, client_secret=CLIENT_SECRET\\n        )\\n        token = credentials.get_access_token()\\n        sp = spotipy.Spotify(auth=token)\\n        res = sp.audio_analysis(song_id)\\n    p, t = get_vecs(res)\\n\\n    pitch_cov_1d = mean_vector_cov_1d(p, \\\"pitch\\\")\\n    timbre_cov_1d = mean_vector_cov_1d(t, \\\"timbre\\\")\\n\\n    pitch_cov_1d[\\\"id\\\"] = song_id\\n    timbre_cov_1d[\\\"id\\\"] = song_id\\n\\n    song_pitches.append(pitch_cov_1d)\\n    song_timbres.append(timbre_cov_1d)\\n\\n    count += 1\\n    if count % load_bar == 0:\\n        print(f\\\"{(count//load_bar)*load_bar} songs done\\\")\";\n",
       "                var nbb_formatted_code = \"count = len(song_pitches)\\nload_bar = 20\\nfor song_id in df[\\\"id\\\"][len(song_pitches) :]:\\n    try:\\n        res = sp.audio_analysis(song_id)\\n    except:\\n        time.sleep(5.2)\\n        credentials = oauth2.SpotifyClientCredentials(\\n            client_id=CLIENT_ID, client_secret=CLIENT_SECRET\\n        )\\n        token = credentials.get_access_token()\\n        sp = spotipy.Spotify(auth=token)\\n        res = sp.audio_analysis(song_id)\\n    p, t = get_vecs(res)\\n\\n    pitch_cov_1d = mean_vector_cov_1d(p, \\\"pitch\\\")\\n    timbre_cov_1d = mean_vector_cov_1d(t, \\\"timbre\\\")\\n\\n    pitch_cov_1d[\\\"id\\\"] = song_id\\n    timbre_cov_1d[\\\"id\\\"] = song_id\\n\\n    song_pitches.append(pitch_cov_1d)\\n    song_timbres.append(timbre_cov_1d)\\n\\n    count += 1\\n    if count % load_bar == 0:\\n        print(f\\\"{(count//load_bar)*load_bar} songs done\\\")\";\n",
       "                var nbb_cells = Jupyter.notebook.get_cells();\n",
       "                for (var i = 0; i < nbb_cells.length; ++i) {\n",
       "                    if (nbb_cells[i].input_prompt_number == nbb_cell_id) {\n",
       "                        if (nbb_cells[i].get_text() == nbb_unformatted_code) {\n",
       "                             nbb_cells[i].set_text(nbb_formatted_code);\n",
       "                        }\n",
       "                        break;\n",
       "                    }\n",
       "                }\n",
       "            }, 500);\n",
       "            "
      ],
      "text/plain": [
       "<IPython.core.display.Javascript object>"
      ]
     },
     "metadata": {},
     "output_type": "display_data"
    }
   ],
   "source": [
    "count = len(song_pitches)\n",
    "load_bar = 20\n",
    "for song_id in df[\"id\"][len(song_pitches) :]:\n",
    "    try:\n",
    "        res = sp.audio_analysis(song_id)\n",
    "    except:\n",
    "        time.sleep(5.2)\n",
    "        credentials = oauth2.SpotifyClientCredentials(\n",
    "            client_id=CLIENT_ID, client_secret=CLIENT_SECRET\n",
    "        )\n",
    "        token = credentials.get_access_token()\n",
    "        sp = spotipy.Spotify(auth=token)\n",
    "        res = sp.audio_analysis(song_id)\n",
    "    p, t = get_vecs(res)\n",
    "\n",
    "    pitch_cov_1d = mean_vector_cov_1d(p, \"pitch\")\n",
    "    timbre_cov_1d = mean_vector_cov_1d(t, \"timbre\")\n",
    "\n",
    "    pitch_cov_1d[\"id\"] = song_id\n",
    "    timbre_cov_1d[\"id\"] = song_id\n",
    "\n",
    "    song_pitches.append(pitch_cov_1d)\n",
    "    song_timbres.append(timbre_cov_1d)\n",
    "\n",
    "    count += 1\n",
    "    if count % load_bar == 0:\n",
    "        print(f\"{(count//load_bar)*load_bar} songs done\")"
   ]
  },
  {
   "cell_type": "code",
   "execution_count": 110,
   "metadata": {},
   "outputs": [
    {
     "data": {
      "application/javascript": [
       "\n",
       "            setTimeout(function() {\n",
       "                var nbb_cell_id = 110;\n",
       "                var nbb_unformatted_code = \"pitch_cov_df = pd.DataFrame(song_pitches)\\ntimbre_cov_df = pd.DataFrame(song_timbres)\";\n",
       "                var nbb_formatted_code = \"pitch_cov_df = pd.DataFrame(song_pitches)\\ntimbre_cov_df = pd.DataFrame(song_timbres)\";\n",
       "                var nbb_cells = Jupyter.notebook.get_cells();\n",
       "                for (var i = 0; i < nbb_cells.length; ++i) {\n",
       "                    if (nbb_cells[i].input_prompt_number == nbb_cell_id) {\n",
       "                        if (nbb_cells[i].get_text() == nbb_unformatted_code) {\n",
       "                             nbb_cells[i].set_text(nbb_formatted_code);\n",
       "                        }\n",
       "                        break;\n",
       "                    }\n",
       "                }\n",
       "            }, 500);\n",
       "            "
      ],
      "text/plain": [
       "<IPython.core.display.Javascript object>"
      ]
     },
     "metadata": {},
     "output_type": "display_data"
    }
   ],
   "source": [
    "pitch_cov_df = pd.DataFrame(song_pitches)\n",
    "timbre_cov_df = pd.DataFrame(song_timbres)"
   ]
  },
  {
   "cell_type": "code",
   "execution_count": 111,
   "metadata": {},
   "outputs": [
    {
     "data": {
      "application/javascript": [
       "\n",
       "            setTimeout(function() {\n",
       "                var nbb_cell_id = 111;\n",
       "                var nbb_unformatted_code = \"pitch_cov_df.to_csv(\\\"pitch_covariance.csv\\\")\\ntimbre_cov_df.to_csv(\\\"timbre_covariance.csv\\\")\";\n",
       "                var nbb_formatted_code = \"pitch_cov_df.to_csv(\\\"pitch_covariance.csv\\\")\\ntimbre_cov_df.to_csv(\\\"timbre_covariance.csv\\\")\";\n",
       "                var nbb_cells = Jupyter.notebook.get_cells();\n",
       "                for (var i = 0; i < nbb_cells.length; ++i) {\n",
       "                    if (nbb_cells[i].input_prompt_number == nbb_cell_id) {\n",
       "                        if (nbb_cells[i].get_text() == nbb_unformatted_code) {\n",
       "                             nbb_cells[i].set_text(nbb_formatted_code);\n",
       "                        }\n",
       "                        break;\n",
       "                    }\n",
       "                }\n",
       "            }, 500);\n",
       "            "
      ],
      "text/plain": [
       "<IPython.core.display.Javascript object>"
      ]
     },
     "metadata": {},
     "output_type": "display_data"
    }
   ],
   "source": [
    "pitch_cov_df.to_csv(\"pitch_covariance.csv\")\n",
    "timbre_cov_df.to_csv(\"timbre_covariance.csv\")"
   ]
  },
  {
   "cell_type": "code",
   "execution_count": 106,
   "metadata": {},
   "outputs": [
    {
     "data": {
      "text/plain": [
       "7976"
      ]
     },
     "execution_count": 106,
     "metadata": {},
     "output_type": "execute_result"
    },
    {
     "data": {
      "application/javascript": [
       "\n",
       "            setTimeout(function() {\n",
       "                var nbb_cell_id = 106;\n",
       "                var nbb_unformatted_code = \"len(song_pitches)\";\n",
       "                var nbb_formatted_code = \"len(song_pitches)\";\n",
       "                var nbb_cells = Jupyter.notebook.get_cells();\n",
       "                for (var i = 0; i < nbb_cells.length; ++i) {\n",
       "                    if (nbb_cells[i].input_prompt_number == nbb_cell_id) {\n",
       "                        if (nbb_cells[i].get_text() == nbb_unformatted_code) {\n",
       "                             nbb_cells[i].set_text(nbb_formatted_code);\n",
       "                        }\n",
       "                        break;\n",
       "                    }\n",
       "                }\n",
       "            }, 500);\n",
       "            "
      ],
      "text/plain": [
       "<IPython.core.display.Javascript object>"
      ]
     },
     "metadata": {},
     "output_type": "display_data"
    }
   ],
   "source": [
    "len(song_pitches)\n",
    "7976 #as of going to bed"
   ]
  },
  {
   "cell_type": "code",
   "execution_count": 7,
   "metadata": {},
   "outputs": [
    {
     "data": {
      "application/javascript": [
       "\n",
       "            setTimeout(function() {\n",
       "                var nbb_cell_id = 7;\n",
       "                var nbb_unformatted_code = \"p, t = get_vecs(res)\";\n",
       "                var nbb_formatted_code = \"p, t = get_vecs(res)\";\n",
       "                var nbb_cells = Jupyter.notebook.get_cells();\n",
       "                for (var i = 0; i < nbb_cells.length; ++i) {\n",
       "                    if (nbb_cells[i].input_prompt_number == nbb_cell_id) {\n",
       "                        if (nbb_cells[i].get_text() == nbb_unformatted_code) {\n",
       "                             nbb_cells[i].set_text(nbb_formatted_code);\n",
       "                        }\n",
       "                        break;\n",
       "                    }\n",
       "                }\n",
       "            }, 500);\n",
       "            "
      ],
      "text/plain": [
       "<IPython.core.display.Javascript object>"
      ]
     },
     "metadata": {},
     "output_type": "display_data"
    }
   ],
   "source": [
    "p, t = get_vecs(res)"
   ]
  },
  {
   "cell_type": "code",
   "execution_count": 41,
   "metadata": {
    "scrolled": false
   },
   "outputs": [
    {
     "data": {
      "text/plain": [
       "{'t0': 52.03070351758797,\n",
       " 't1': 59.63849497487441,\n",
       " 't2': -7.607188442211055,\n",
       " 't3': -13.38495728643216,\n",
       " 't4': 15.617072864321614,\n",
       " 't5': -26.836228643216092,\n",
       " 't6': 9.30303266331659,\n",
       " 't7': -0.40024874371859254,\n",
       " 't8': 9.660532663316586,\n",
       " 't9': 4.237399497487439,\n",
       " 't10': -13.48411055276381,\n",
       " 't11': -0.8962613065326637,\n",
       " 't0-t0': 10.135725317418334,\n",
       " 't0-t1': 36.83087206147867,\n",
       " 't1-t1': 1370.8144387392692,\n",
       " 't0-t2': 50.647110505702294,\n",
       " 't1-t2': -106.40429665712065,\n",
       " 't2-t2': 1349.8121804001685,\n",
       " 't10-t2': 39.65872606223813,\n",
       " 't11-t2': -68.86433126850878,\n",
       " 't0-t3': -8.085262067908792,\n",
       " 't1-t3': 120.89528624832604,\n",
       " 't2-t3': -304.22634156120023,\n",
       " 't3-t3': 1626.587650388599,\n",
       " 't10-t3': -120.68253326478741,\n",
       " 't11-t3': 49.09608261068569,\n",
       " 't0-t4': 17.624109263471006,\n",
       " 't1-t4': -34.644675356056084,\n",
       " 't2-t4': 440.79925614978544,\n",
       " 't3-t4': 21.83172055607381,\n",
       " 't4-t4': 577.1810505110504,\n",
       " 't10-t4': -17.547371057415546,\n",
       " 't11-t4': 40.362343656367436,\n",
       " 't0-t5': 5.7178750428717855,\n",
       " 't1-t5': 141.25948852151808,\n",
       " 't2-t5': 276.4381075588205,\n",
       " 't3-t5': -261.8238497030555,\n",
       " 't4-t5': 101.91457413005206,\n",
       " 't5-t5': 753.8093678342403,\n",
       " 't10-t5': -82.6931639724441,\n",
       " 't11-t5': -38.237912387352374,\n",
       " 't0-t6': 22.236562062605216,\n",
       " 't1-t6': -274.6066505250243,\n",
       " 't2-t6': 413.21666185251826,\n",
       " 't3-t6': -92.1743319988798,\n",
       " 't4-t6': 296.3082323653721,\n",
       " 't5-t6': 83.89934865232335,\n",
       " 't6-t6': 521.3641236588799,\n",
       " 't10-t6': 20.033368588002975,\n",
       " 't11-t6': 88.28124107908556,\n",
       " 't0-t7': -10.420647237661868,\n",
       " 't1-t7': -111.97458570528333,\n",
       " 't2-t7': 193.22420711925497,\n",
       " 't3-t7': -189.7115987047137,\n",
       " 't4-t7': 35.998737625223065,\n",
       " 't5-t7': 46.25448756263052,\n",
       " 't6-t7': 50.48557780159612,\n",
       " 't7-t7': 444.230134887593,\n",
       " 't10-t7': 47.78240469031557,\n",
       " 't11-t7': 10.862499408389557,\n",
       " 't0-t8': -3.970060370644156,\n",
       " 't1-t8': -150.8139901585256,\n",
       " 't2-t8': 48.76522591171221,\n",
       " 't3-t8': 17.594520349986713,\n",
       " 't4-t8': 104.40211487796664,\n",
       " 't5-t8': 44.90648805156765,\n",
       " 't6-t8': 50.337129728149534,\n",
       " 't7-t8': 29.086518440135166,\n",
       " 't8-t8': 252.70914122689015,\n",
       " 't10-t8': -29.71603642459146,\n",
       " 't11-t8': 17.708818565231695,\n",
       " 't0-t9': 2.0497853429236863,\n",
       " 't1-t9': -231.0204976214131,\n",
       " 't2-t9': 133.59006633491765,\n",
       " 't3-t9': -85.37969435463843,\n",
       " 't4-t9': -6.428750731953219,\n",
       " 't5-t9': -49.37007179759628,\n",
       " 't6-t9': 35.20833402722049,\n",
       " 't7-t9': -30.425651653525804,\n",
       " 't8-t9': -35.975793331721576,\n",
       " 't9-t9': 290.43122861329954,\n",
       " 't10-t9': 43.54701066896194,\n",
       " 't11-t9': -1.9760825779653957,\n",
       " 't0-t10': -6.452759108426263,\n",
       " 't1-t10': -91.89747903582142,\n",
       " 't10-t10': 259.8581984209967,\n",
       " 't0-t11': -6.082138518473981,\n",
       " 't1-t11': -128.77735304413756,\n",
       " 't10-t11': -2.743731061706519,\n",
       " 't11-t11': 203.6947793068617}"
      ]
     },
     "execution_count": 41,
     "metadata": {},
     "output_type": "execute_result"
    },
    {
     "data": {
      "application/javascript": [
       "\n",
       "            setTimeout(function() {\n",
       "                var nbb_cell_id = 41;\n",
       "                var nbb_unformatted_code = \"mean_vector_cov_1d(t, 'timbre')\";\n",
       "                var nbb_formatted_code = \"mean_vector_cov_1d(t, \\\"timbre\\\")\";\n",
       "                var nbb_cells = Jupyter.notebook.get_cells();\n",
       "                for (var i = 0; i < nbb_cells.length; ++i) {\n",
       "                    if (nbb_cells[i].input_prompt_number == nbb_cell_id) {\n",
       "                        if (nbb_cells[i].get_text() == nbb_unformatted_code) {\n",
       "                             nbb_cells[i].set_text(nbb_formatted_code);\n",
       "                        }\n",
       "                        break;\n",
       "                    }\n",
       "                }\n",
       "            }, 500);\n",
       "            "
      ],
      "text/plain": [
       "<IPython.core.display.Javascript object>"
      ]
     },
     "metadata": {},
     "output_type": "display_data"
    }
   ],
   "source": [
    "mean_vector_cov_1d(t, \"timbre\")"
   ]
  },
  {
   "cell_type": "code",
   "execution_count": 42,
   "metadata": {
    "scrolled": true
   },
   "outputs": [
    {
     "data": {
      "text/plain": [
       "{'C': 0.6779824120603013,\n",
       " 'C#': 0.6512889447236182,\n",
       " 'D': 0.3382211055276382,\n",
       " 'D#': 0.34702512562814053,\n",
       " 'E': 0.301032663316583,\n",
       " 'F': 0.4727160804020099,\n",
       " 'F#': 0.29266331658291445,\n",
       " 'G': 0.3262613065326634,\n",
       " 'G#': 0.27354020100502524,\n",
       " 'A': 0.24300000000000002,\n",
       " 'A#': 0.28607286432160806,\n",
       " 'B': 0.23455778894472365,\n",
       " 'C-C': 0.1155442440223787,\n",
       " 'A-C': 0.014035770780856424,\n",
       " 'A#-C': 0.013557046624811712,\n",
       " 'B-C': 0.029401657190233285,\n",
       " 'C-C#': 0.010503435825221818,\n",
       " 'C#-C#': 0.07468997423515564,\n",
       " 'A-C#': 0.004847239294710326,\n",
       " 'A#-C#': 0.00931655571940306,\n",
       " 'B-C#': 0.010271082756351016,\n",
       " 'C-D': -0.0062328953457463625,\n",
       " 'C#-D': 0.02350007449084213,\n",
       " 'D-D': 0.06187452025872436,\n",
       " 'A-D': -0.003228604534005038,\n",
       " 'A#-D': -0.011275293229371038,\n",
       " 'B-D': 0.020099138323861114,\n",
       " 'C-D#': -0.023497631798792447,\n",
       " 'C#-D#': 0.02842679624824374,\n",
       " 'D-D#': 0.051469546067870846,\n",
       " 'D#-D#': 0.07245563160892625,\n",
       " 'A-D#': -0.00811265743073048,\n",
       " 'A#-D#': -0.012273334329076114,\n",
       " 'B-D#': 0.011064985949900642,\n",
       " 'C-E': -0.030784422597876032,\n",
       " 'C#-E': 0.007779925047150106,\n",
       " 'D-E': 0.036494166563295065,\n",
       " 'D#-E': 0.036358341746515956,\n",
       " 'E-E': 0.06464523066845564,\n",
       " 'A-E': 0.012842876574307308,\n",
       " 'A#-E': -0.0017458084313253942,\n",
       " 'B-E': -0.008748443957824389,\n",
       " 'C-F': -0.04217305790286447,\n",
       " 'C#-F': -0.031040252768882188,\n",
       " 'D-F': 0.02638014857663633,\n",
       " 'D#-F': 0.009430339645329923,\n",
       " 'E-F': 0.054373273780742505,\n",
       " 'F-F': 0.13074517611356523,\n",
       " 'A-F': 0.0029380226700251874,\n",
       " 'A#-F': -0.010736311753984032,\n",
       " 'B-F': -0.005381302191056037,\n",
       " 'C-F#': -0.0011871444755262466,\n",
       " 'C#-F#': -0.002022421363745678,\n",
       " 'D-F#': 0.008888747174157942,\n",
       " 'D#-F#': 0.0009731041985747377,\n",
       " 'E-F#': 0.0324879279014721,\n",
       " 'F-F#': 0.03463964724124399,\n",
       " 'F#-F#': 0.060169563940609856,\n",
       " 'A-F#': 0.042690304785894216,\n",
       " 'A#-F#': 0.027181137944128714,\n",
       " 'B-F#': 0.015417825550928447,\n",
       " 'C-G': 0.006219997050744911,\n",
       " 'C#-G': 0.0024774507550346173,\n",
       " 'D-G': 0.010007264496284952,\n",
       " 'D#-G': 0.005043449337366936,\n",
       " 'E-G': 0.03033753804285914,\n",
       " 'F-G': 0.015029172613698218,\n",
       " 'F#-G': 0.050077239332683564,\n",
       " 'G-G': 0.05906616832272188,\n",
       " 'A-G': 0.040048193954659944,\n",
       " 'A#-G': 0.02488450736048,\n",
       " 'B-G': 0.018504178815994327,\n",
       " 'C-G#': 0.019890518341075653,\n",
       " 'C#-G#': 0.0048149165664595,\n",
       " 'D-G#': -0.0005559937977038828,\n",
       " 'D#-G#': -0.006554459450906928,\n",
       " 'E-G#': 0.012157098179815962,\n",
       " 'F-G#': 0.0026092872612432432,\n",
       " 'F#-G#': 0.04744446696960876,\n",
       " 'G-G#': 0.046685845891928146,\n",
       " 'G#-G#': 0.07511619359391415,\n",
       " 'A-G#': 0.06848341309823677,\n",
       " 'A#-G#': 0.05957116456969988,\n",
       " 'B-G#': 0.01925329238130197,\n",
       " 'A-A': 0.06906587909319899,\n",
       " 'A-A#': 0.06329849370277077,\n",
       " 'A#-A#': 0.08145037503006215,\n",
       " 'A-B': 0.00569194458438287,\n",
       " 'A#-B': 0.0006754353252408127,\n",
       " 'B-B': 0.08074909362935584}"
      ]
     },
     "execution_count": 42,
     "metadata": {},
     "output_type": "execute_result"
    },
    {
     "data": {
      "application/javascript": [
       "\n",
       "            setTimeout(function() {\n",
       "                var nbb_cell_id = 42;\n",
       "                var nbb_unformatted_code = \"mean_vector_cov_1d(p, \\\"pitch\\\")\";\n",
       "                var nbb_formatted_code = \"mean_vector_cov_1d(p, \\\"pitch\\\")\";\n",
       "                var nbb_cells = Jupyter.notebook.get_cells();\n",
       "                for (var i = 0; i < nbb_cells.length; ++i) {\n",
       "                    if (nbb_cells[i].input_prompt_number == nbb_cell_id) {\n",
       "                        if (nbb_cells[i].get_text() == nbb_unformatted_code) {\n",
       "                             nbb_cells[i].set_text(nbb_formatted_code);\n",
       "                        }\n",
       "                        break;\n",
       "                    }\n",
       "                }\n",
       "            }, 500);\n",
       "            "
      ],
      "text/plain": [
       "<IPython.core.display.Javascript object>"
      ]
     },
     "metadata": {},
     "output_type": "display_data"
    }
   ],
   "source": [
    "mean_vector_cov_1d(p, \"pitch\")"
   ]
  }
 ],
 "metadata": {
  "kernelspec": {
   "display_name": "Python 3",
   "language": "python",
   "name": "python3"
  },
  "language_info": {
   "codemirror_mode": {
    "name": "ipython",
    "version": 3
   },
   "file_extension": ".py",
   "mimetype": "text/x-python",
   "name": "python",
   "nbconvert_exporter": "python",
   "pygments_lexer": "ipython3",
   "version": "3.7.6"
  }
 },
 "nbformat": 4,
 "nbformat_minor": 4
}
